{
 "cells": [
  {
   "cell_type": "code",
   "execution_count": 18,
   "id": "ab6a234a-d726-435c-b6eb-2c6e9ccd2b27",
   "metadata": {},
   "outputs": [],
   "source": [
    "import pandas as pd"
   ]
  },
  {
   "cell_type": "code",
   "execution_count": 19,
   "id": "ec70655f-7ca5-4fa9-8b4c-4a7838144a3b",
   "metadata": {},
   "outputs": [],
   "source": [
    "# Load the dataset\n",
    "health = pd.read_csv(r\"C:\\Users\\MS Mthethwa\\Desktop\\MUT\\Programming (Year 2)\\TECHNICAL PROGRAMMING II\\Test\\Test 2\\health_zaf.csv\")"
   ]
  },
  {
   "cell_type": "code",
   "execution_count": 20,
   "id": "c0cc59ea-1f55-4533-9ce7-0f13dfb21f37",
   "metadata": {},
   "outputs": [
    {
     "name": "stdout",
     "output_type": "stream",
     "text": [
      "First few rows of the dataset:\n",
      "    Country Name   Country ISO3        Year  \\\n",
      "0  #country+name  #country+code  #date+year   \n",
      "1   South Africa            ZAF        2016   \n",
      "2   South Africa            ZAF        2016   \n",
      "3   South Africa            ZAF        2016   \n",
      "4   South Africa            ZAF        2016   \n",
      "\n",
      "                                      Indicator Name   Indicator Code  \\\n",
      "0                                    #indicator+name  #indicator+code   \n",
      "1  Women who believe a husband is justified in be...   SG.VAW.ARGU.ZS   \n",
      "2  Women who believe a husband is justified in be...   SG.VAW.BURN.ZS   \n",
      "3  Women who believe a husband is justified in be...   SG.VAW.GOES.ZS   \n",
      "4  Women who believe a husband is justified in be...   SG.VAW.NEGL.ZS   \n",
      "\n",
      "                  Value  \n",
      "0  #indicator+value+num  \n",
      "1                   2.2  \n",
      "2                     1  \n",
      "3                   2.1  \n",
      "4                   3.8  \n"
     ]
    }
   ],
   "source": [
    "# Display the first few rows of the dataset\n",
    "print(\"First few rows of the dataset:\")\n",
    "print(health.head())"
   ]
  },
  {
   "cell_type": "code",
   "execution_count": 21,
   "id": "e2b4d925-8d67-4d6b-bc96-3fde1740e6c1",
   "metadata": {},
   "outputs": [
    {
     "name": "stdout",
     "output_type": "stream",
     "text": [
      "\n",
      "Size of the dataset (rows, columns):\n",
      "(8245, 6)\n"
     ]
    }
   ],
   "source": [
    "# Understanding the size of the dataset\n",
    "print(\"\\nSize of the dataset (rows, columns):\")\n",
    "print(health.shape)"
   ]
  },
  {
   "cell_type": "code",
   "execution_count": 22,
   "id": "1d32bf3e-951d-42cc-9ac2-e647353eba28",
   "metadata": {},
   "outputs": [
    {
     "name": "stdout",
     "output_type": "stream",
     "text": [
      "\n",
      "Data types of the columns:\n",
      "Country Name      object\n",
      "Country ISO3      object\n",
      "Year              object\n",
      "Indicator Name    object\n",
      "Indicator Code    object\n",
      "Value             object\n",
      "dtype: object\n"
     ]
    }
   ],
   "source": [
    "# Data types of the columns\n",
    "print(\"\\nData types of the columns:\")\n",
    "print(health.dtypes)"
   ]
  },
  {
   "cell_type": "code",
   "execution_count": 23,
   "id": "0fb2c969-22d4-471a-81a4-eff47fd3bbd9",
   "metadata": {},
   "outputs": [
    {
     "name": "stdout",
     "output_type": "stream",
     "text": [
      "\n",
      "Columns in the dataset:\n",
      "Index(['Country Name', 'Country ISO3', 'Year', 'Indicator Name',\n",
      "       'Indicator Code', 'Value'],\n",
      "      dtype='object')\n"
     ]
    }
   ],
   "source": [
    "# Columns in the dataset\n",
    "print(\"\\nColumns in the dataset:\")\n",
    "print(health.columns)"
   ]
  },
  {
   "cell_type": "code",
   "execution_count": 24,
   "id": "dd15fbc5-b22c-4406-954b-9e818f7d1209",
   "metadata": {},
   "outputs": [
    {
     "name": "stdout",
     "output_type": "stream",
     "text": [
      "\n",
      "Summary statistics of the dataset:\n",
      "        Country Name Country ISO3  Year Indicator Name Indicator Code Value\n",
      "count           8245         8245  8245           8245           8245  8245\n",
      "unique             2            2    65            567            567  6959\n",
      "top     South Africa          ZAF  2016  Net migration    SM.POP.NETM  1.04\n",
      "freq            8244         8244   467             64             64    21\n"
     ]
    }
   ],
   "source": [
    "# Summary statistics of the dataset\n",
    "print(\"\\nSummary statistics of the dataset:\")\n",
    "print(health.describe())"
   ]
  },
  {
   "cell_type": "code",
   "execution_count": 25,
   "id": "1b123a7b-0219-444e-8578-403b9f496f82",
   "metadata": {},
   "outputs": [
    {
     "name": "stdout",
     "output_type": "stream",
     "text": [
      "\n",
      "Missing data in the dataset:\n",
      "Country Name      0\n",
      "Country ISO3      0\n",
      "Year              0\n",
      "Indicator Name    0\n",
      "Indicator Code    0\n",
      "Value             0\n",
      "dtype: int64\n"
     ]
    }
   ],
   "source": [
    "# Identifying missing data\n",
    "print(\"\\nMissing data in the dataset:\")\n",
    "print(health.isnull().sum())"
   ]
  },
  {
   "cell_type": "code",
   "execution_count": 26,
   "id": "45d5e627-7d17-4e42-9f79-15cf688b74b3",
   "metadata": {},
   "outputs": [
    {
     "name": "stdout",
     "output_type": "stream",
     "text": [
      "\n",
      "Slicing and Indexing examples:\n"
     ]
    }
   ],
   "source": [
    "# Data slicing and indexing\n",
    "print(\"\\nSlicing and Indexing examples:\")"
   ]
  },
  {
   "cell_type": "code",
   "execution_count": 27,
   "id": "b2089b17-b0b4-45a5-a8e6-bb534d79e503",
   "metadata": {},
   "outputs": [
    {
     "name": "stdout",
     "output_type": "stream",
     "text": [
      "\n",
      "Single column Indicator Name:\n",
      "0                                      #indicator+name\n",
      "1    Women who believe a husband is justified in be...\n",
      "2    Women who believe a husband is justified in be...\n",
      "3    Women who believe a husband is justified in be...\n",
      "4    Women who believe a husband is justified in be...\n",
      "Name: Indicator Name, dtype: object\n"
     ]
    }
   ],
   "source": [
    "# Accessing a single column\n",
    "print(\"\\nSingle column Indicator Name:\")\n",
    "print(health['Indicator Name'].head())"
   ]
  },
  {
   "cell_type": "code",
   "execution_count": 28,
   "id": "6f66c8b9-868a-41af-82fd-94fdf32fe719",
   "metadata": {},
   "outputs": [
    {
     "name": "stdout",
     "output_type": "stream",
     "text": [
      "\n",
      "Multiple columns Country Name and Country ISO3:\n",
      "    Country Name   Country ISO3\n",
      "0  #country+name  #country+code\n",
      "1   South Africa            ZAF\n",
      "2   South Africa            ZAF\n",
      "3   South Africa            ZAF\n",
      "4   South Africa            ZAF\n"
     ]
    }
   ],
   "source": [
    "# Accessing multiple columns\n",
    "print(\"\\nMultiple columns Country Name and Country ISO3:\")\n",
    "print(health[['Country Name', 'Country ISO3']].head())"
   ]
  },
  {
   "cell_type": "code",
   "execution_count": 29,
   "id": "8639e3ca-be0c-4a64-9b1f-eea1aaf14342",
   "metadata": {},
   "outputs": [
    {
     "name": "stdout",
     "output_type": "stream",
     "text": [
      "\n",
      "Rows 0 to 4 using iloc:\n",
      "    Country Name   Country ISO3        Year  \\\n",
      "0  #country+name  #country+code  #date+year   \n",
      "1   South Africa            ZAF        2016   \n",
      "2   South Africa            ZAF        2016   \n",
      "3   South Africa            ZAF        2016   \n",
      "4   South Africa            ZAF        2016   \n",
      "\n",
      "                                      Indicator Name   Indicator Code  \\\n",
      "0                                    #indicator+name  #indicator+code   \n",
      "1  Women who believe a husband is justified in be...   SG.VAW.ARGU.ZS   \n",
      "2  Women who believe a husband is justified in be...   SG.VAW.BURN.ZS   \n",
      "3  Women who believe a husband is justified in be...   SG.VAW.GOES.ZS   \n",
      "4  Women who believe a husband is justified in be...   SG.VAW.NEGL.ZS   \n",
      "\n",
      "                  Value  \n",
      "0  #indicator+value+num  \n",
      "1                   2.2  \n",
      "2                     1  \n",
      "3                   2.1  \n",
      "4                   3.8  \n"
     ]
    }
   ],
   "source": [
    "# Accessing specific rows using iloc (index-based)\n",
    "print(\"\\nRows 0 to 4 using iloc:\")\n",
    "print(health.iloc[0:5])"
   ]
  },
  {
   "cell_type": "code",
   "execution_count": 30,
   "id": "bdc2ba47-ec0a-4517-8989-4eb2102f127d",
   "metadata": {},
   "outputs": [
    {
     "name": "stdout",
     "output_type": "stream",
     "text": [
      "\n",
      "Rows 0 to 4 using loc:\n",
      "    Country Name   Country ISO3        Year  \\\n",
      "0  #country+name  #country+code  #date+year   \n",
      "1   South Africa            ZAF        2016   \n",
      "2   South Africa            ZAF        2016   \n",
      "3   South Africa            ZAF        2016   \n",
      "4   South Africa            ZAF        2016   \n",
      "\n",
      "                                      Indicator Name   Indicator Code  \\\n",
      "0                                    #indicator+name  #indicator+code   \n",
      "1  Women who believe a husband is justified in be...   SG.VAW.ARGU.ZS   \n",
      "2  Women who believe a husband is justified in be...   SG.VAW.BURN.ZS   \n",
      "3  Women who believe a husband is justified in be...   SG.VAW.GOES.ZS   \n",
      "4  Women who believe a husband is justified in be...   SG.VAW.NEGL.ZS   \n",
      "\n",
      "                  Value  \n",
      "0  #indicator+value+num  \n",
      "1                   2.2  \n",
      "2                     1  \n",
      "3                   2.1  \n",
      "4                   3.8  \n"
     ]
    }
   ],
   "source": [
    "# Accessing specific rows using loc (label-based, assuming index is properly labeled)\n",
    "print(\"\\nRows 0 to 4 using loc:\")\n",
    "print(health.loc[0:4])"
   ]
  },
  {
   "cell_type": "code",
   "execution_count": 31,
   "id": "88e1fe8e-3692-4d7a-bbdc-2647442763c6",
   "metadata": {},
   "outputs": [
    {
     "name": "stdout",
     "output_type": "stream",
     "text": [
      "\n",
      "Rows 0 to 4 and columns Indicator Name and Indicator Code using loc:\n",
      "                                      Indicator Name   Indicator Code\n",
      "0                                    #indicator+name  #indicator+code\n",
      "1  Women who believe a husband is justified in be...   SG.VAW.ARGU.ZS\n",
      "2  Women who believe a husband is justified in be...   SG.VAW.BURN.ZS\n",
      "3  Women who believe a husband is justified in be...   SG.VAW.GOES.ZS\n",
      "4  Women who believe a husband is justified in be...   SG.VAW.NEGL.ZS\n"
     ]
    }
   ],
   "source": [
    "# Accessing specific rows and columns\n",
    "print(\"\\nRows 0 to 4 and columns Indicator Name and Indicator Code using loc:\")\n",
    "print(health.loc[0:4, ['Indicator Name', 'Indicator Code']])"
   ]
  },
  {
   "cell_type": "code",
   "execution_count": 32,
   "id": "bfaae28a-ff8d-4e46-8be9-6b637f3f98f6",
   "metadata": {},
   "outputs": [
    {
     "name": "stdout",
     "output_type": "stream",
     "text": [
      "\n",
      "Rows where Year > 2000:\n",
      "     Country Name Country ISO3  Year  \\\n",
      "83   South Africa          ZAF  1998   \n",
      "111  South Africa          ZAF  1999   \n",
      "112  South Africa          ZAF  1998   \n",
      "113  South Africa          ZAF  1997   \n",
      "114  South Africa          ZAF  1996   \n",
      "\n",
      "                                        Indicator Name     Indicator Code  \\\n",
      "83   Condom use, population ages 15-24, female (% o...  SH.CON.1524.FE.ZS   \n",
      "111                            Number of infant deaths        SH.DTH.IMRT   \n",
      "112                            Number of infant deaths        SH.DTH.IMRT   \n",
      "113                            Number of infant deaths        SH.DTH.IMRT   \n",
      "114                            Number of infant deaths        SH.DTH.IMRT   \n",
      "\n",
      "     Value  \n",
      "83    18.3  \n",
      "111  48601  \n",
      "112  49092  \n",
      "113  50843  \n",
      "114  52632  \n"
     ]
    }
   ],
   "source": [
    "# Convert 'Year' column to numeric, invalid parsing will be set as NaN\n",
    "health['Year'] = pd.to_numeric(health['Year'], errors='coerce')\n",
    "\n",
    "# Drop rows with NaN values in the 'Year' column\n",
    "health = health.dropna(subset=['Year'])\n",
    "\n",
    "# Convert 'Year' column to int (after dropping NaN values)\n",
    "health['Year'] = health['Year'].astype(int)\n",
    "\n",
    "# Conditional slicing\n",
    "print(\"\\nRows where Year > 2000:\")\n",
    "print(health[health['Year'] < 2000].head())"
   ]
  },
  {
   "cell_type": "code",
   "execution_count": 33,
   "id": "63efb46f-3d65-49b6-92c8-a4e825137fb8",
   "metadata": {},
   "outputs": [
    {
     "name": "stdout",
     "output_type": "stream",
     "text": [
      "1       0.014254\n",
      "2       0.014254\n",
      "3       0.014254\n",
      "4       0.014255\n",
      "5       0.014255\n",
      "          ...   \n",
      "8240    0.054972\n",
      "8241    0.015291\n",
      "8242    0.015703\n",
      "8243    0.016805\n",
      "8244    0.024524\n",
      "Name: Value, Length: 8244, dtype: float64\n"
     ]
    }
   ],
   "source": [
    "from sklearn.preprocessing import MinMaxScaler\n",
    "\n",
    "# Initialize the Min-Max Scaler\n",
    "scaler = MinMaxScaler()\n",
    "\n",
    "# Normalize the 'Value' column\n",
    "health[['Value']] = scaler.fit_transform(health[['Value']])\n",
    "\n",
    "print(health['Value'])\n"
   ]
  },
  {
   "cell_type": "code",
   "execution_count": 34,
   "id": "291faf73-3153-4a41-af44-89d59764f8a4",
   "metadata": {},
   "outputs": [
    {
     "name": "stdout",
     "output_type": "stream",
     "text": [
      "1      -0.227557\n",
      "2      -0.227557\n",
      "3      -0.227557\n",
      "4      -0.227556\n",
      "5      -0.227556\n",
      "          ...   \n",
      "8240    0.245279\n",
      "8241   -0.215517\n",
      "8242   -0.210738\n",
      "8243   -0.197933\n",
      "8244   -0.108297\n",
      "Name: Value, Length: 8244, dtype: float64\n"
     ]
    }
   ],
   "source": [
    "from sklearn.preprocessing import StandardScaler\n",
    "\n",
    "# Initialize the Standard Scaler\n",
    "scaler = StandardScaler()\n",
    "\n",
    "# Standardize the 'Value' column\n",
    "health[['Value']] = scaler.fit_transform(health[['Value']])\n",
    "\n",
    "print(health['Value'])"
   ]
  },
  {
   "cell_type": "markdown",
   "id": "0b9b8073-c4dd-4dbc-b7e4-2ca5823e7482",
   "metadata": {},
   "source": [
    "## Data Types in the Dataset\n",
    "\n",
    "- **Country Name**: Categorical data representing the name of the country.\n",
    "- **Country ISO3**: Categorical data representing the ISO3 code of the country.\n",
    "- **Indicator Name**: Categorical data representing the name of the health indicator.\n",
    "- **Indicator Code**: Categorical data representing the code of the health indicator.\n",
    "- **Year**: Numerical data representing the year of the recorded data. This can be used in time-series analysis or as a feature in predictive models.\n",
    "- **Value**: Numerical data representing the value of the health indicator for the given year and country."
   ]
  },
  {
   "cell_type": "code",
   "execution_count": null,
   "id": "99bf1f83-469b-40ce-8ac0-f96b53d6cf3e",
   "metadata": {},
   "outputs": [],
   "source": []
  }
 ],
 "metadata": {
  "kernelspec": {
   "display_name": "Python 3 (ipykernel)",
   "language": "python",
   "name": "python3"
  },
  "language_info": {
   "codemirror_mode": {
    "name": "ipython",
    "version": 3
   },
   "file_extension": ".py",
   "mimetype": "text/x-python",
   "name": "python",
   "nbconvert_exporter": "python",
   "pygments_lexer": "ipython3",
   "version": "3.12.3"
  }
 },
 "nbformat": 4,
 "nbformat_minor": 5
}
