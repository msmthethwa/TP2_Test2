{
 "cells": [
  {
   "cell_type": "code",
   "execution_count": 3,
   "id": "907ffe5e-4929-42b4-9e29-3cc77b6f40eb",
   "metadata": {},
   "outputs": [],
   "source": [
    "import pandas as pd"
   ]
  },
  {
   "cell_type": "code",
   "execution_count": 4,
   "id": "9a9bb670-270f-4dfe-ad17-3b47954caf3a",
   "metadata": {},
   "outputs": [],
   "source": [
    "# Load the dataset\n",
    "health = pd.read_csv(r\"C:\\Users\\MS Mthethwa\\Desktop\\MUT\\Programming (Year 2)\\TECHNICAL PROGRAMMING II\\Test\\Test 2\\health_zaf.csv\")"
   ]
  },
  {
   "cell_type": "markdown",
   "id": "7e17d5c2-855e-48a8-a6d1-097a958cf10c",
   "metadata": {},
   "source": [
    "## SR1 - Data Sourcing\n",
    "\n",
    "### Dataset Selection: Informal Settlements\n",
    "\n",
    "#### Dataset: [Global Informal Settlements Database](https://data.humdata.org/dataset/informal-settlements)\n",
    "\n",
    "**Justification for Suitability:**\n",
    "\n",
    "1. **Data Completeness**: The dataset includes comprehensive information on informal settlements globally, covering various regions with relevant indicators. This ensures we have a wide range of data to analyze informal settlements effectively.\n",
    "\n",
    "2. **Relevance**: The dataset provides crucial information on the population living in informal settlements and the infrastructure available, which are key factors in understanding and improving these areas.\n",
    "\n",
    "3. **Credibility**: The dataset is sourced from Humanitarian Data Exchange (HDX), a credible platform managed by the United Nations Office for the Coordination of Humanitarian Affairs (OCHA), ensuring the reliability and accuracy of the data.\n",
    "\n",
    "**Relevant Columns:**\n",
    "\n",
    "- **Population**: This column provides data on the number of people living in informal settlements, crucial for understanding the scale and impact of these areas on urban development.\n",
    "  \n",
    "- **Infrastructure**: This column includes information on the availability of basic infrastructure such as water, sanitation, and electricity, which are essential for assessing the living conditions and planning improvements in informal settlements.\n",
    "\n",
    "By leveraging this dataset, we can gain insights into the challenges and needs of informal settlements, enabling more targeted and effective interventions."
   ]
  },
  {
   "cell_type": "code",
   "execution_count": null,
   "id": "70d6ef38-813d-4ff4-99bb-77c6ac7649ce",
   "metadata": {},
   "outputs": [],
   "source": []
  }
 ],
 "metadata": {
  "kernelspec": {
   "display_name": "Python 3 (ipykernel)",
   "language": "python",
   "name": "python3"
  },
  "language_info": {
   "codemirror_mode": {
    "name": "ipython",
    "version": 3
   },
   "file_extension": ".py",
   "mimetype": "text/x-python",
   "name": "python",
   "nbconvert_exporter": "python",
   "pygments_lexer": "ipython3",
   "version": "3.12.3"
  }
 },
 "nbformat": 4,
 "nbformat_minor": 5
}
