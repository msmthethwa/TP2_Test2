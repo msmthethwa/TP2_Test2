{
 "cells": [
  {
   "cell_type": "code",
   "execution_count": 1,
   "id": "3263b63f-ceed-48fb-be9b-47e871dc4c75",
   "metadata": {},
   "outputs": [],
   "source": [
    "import pandas as pd"
   ]
  },
  {
   "cell_type": "code",
   "execution_count": 2,
   "id": "77deed16-ed94-4250-b9f9-c5f238569870",
   "metadata": {},
   "outputs": [],
   "source": [
    "# Load the dataset\n",
    "health = pd.read_csv(r\"C:\\Users\\MS Mthethwa\\Desktop\\MUT\\Programming (Year 2)\\TECHNICAL PROGRAMMING II\\Test\\Test 2\\health_zaf.csv\")"
   ]
  },
  {
   "cell_type": "markdown",
   "id": "48d82908-558c-4cb4-8783-975bed63d183",
   "metadata": {},
   "source": [
    "### Complexity Analysis: Insertion Sort Algorithm\n",
    "\n",
    "**Insertion Sort** is the sorting algorithm we implemented to sort the `Year` column in the dataset.\n",
    "\n",
    "#### Time Complexity\n",
    "\n",
    "1. **Best Case**:\n",
    "   - The best case occurs when the input list is already sorted.\n",
    "   - In this scenario, the inner while loop condition `key < arr[j]` fails immediately for every element.\n",
    "   - The algorithm only performs the outer for loop operations, which are \\(n-1\\) comparisons.\n",
    "   - **Best Case Time Complexity**: \\(O(n)\\)\n",
    "\n",
    "2. **Average Case**:\n",
    "   - In the average case, each element in the list is compared with half of the sorted portion of the list on average.\n",
    "   - The inner while loop executes for about half of the elements in each iteration of the outer for loop.\n",
    "   - The average number of comparisons and shifts is \\(\\frac{n(n-1)}{4}\\).\n",
    "   - **Average Case Time Complexity**: \\(O(n^2)\\)\n",
    "\n",
    "3. **Worst Case**:\n",
    "   - The worst case occurs when the input list is sorted in reverse order.\n",
    "   - In this scenario, each element must be compared and shifted with all previously sorted elements.\n",
    "   - The total number of comparisons and shifts is \\(\\frac{n(n-1)}{2}\\).\n",
    "   - **Worst Case Time Complexity**: \\(O(n^2)\\)\n",
    "\n",
    "#### Space Complexity\n",
    "\n",
    "- **Space Complexity**:\n",
    "  - Insertion sort is an in-place sorting algorithm, meaning it requires a constant amount of additional memory space.\n",
    "  - Only a few additional variables are used, regardless of the size of the input list.\n",
    "  - **Space Complexity**: \\(O(1)\\)\n",
    "\n",
    "### Efficiency\n",
    "\n",
    "- **Efficiency**:\n",
    "  - **Insertion Sort** is efficient for small or nearly sorted datasets due to its simple implementation and low overhead.\n",
    "  - However, it becomes inefficient for larger datasets due to its quadratic time complexity in the average and worst cases.\n",
    "  - Its space efficiency is high, as it operates in-place without requiring additional memory proportional to the input size.\n",
    "\n",
    "### Summary\n",
    "\n",
    "- **Time Complexity**: Best case \\(O(n)\\), Average case \\(O(n^2)\\), Worst case \\(O(n^2)\\)\n",
    "- **Space Complexity**: \\(O(1)\\)\n",
    "\n",
    "Insertion Sort is best suited for small or nearly sorted datasets but is not optimal for large datasets due to its \\(O(n^2)\\) time complexity in average and worst cases."
   ]
  },
  {
   "cell_type": "code",
   "execution_count": null,
   "id": "bbffc02b-2c5d-4b19-9999-4e353510b082",
   "metadata": {},
   "outputs": [],
   "source": []
  }
 ],
 "metadata": {
  "kernelspec": {
   "display_name": "Python 3 (ipykernel)",
   "language": "python",
   "name": "python3"
  },
  "language_info": {
   "codemirror_mode": {
    "name": "ipython",
    "version": 3
   },
   "file_extension": ".py",
   "mimetype": "text/x-python",
   "name": "python",
   "nbconvert_exporter": "python",
   "pygments_lexer": "ipython3",
   "version": "3.12.3"
  }
 },
 "nbformat": 4,
 "nbformat_minor": 5
}
